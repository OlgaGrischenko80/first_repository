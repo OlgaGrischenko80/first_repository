{
  "nbformat": 4,
  "nbformat_minor": 0,
  "metadata": {
    "colab": {
      "provenance": [],
      "authorship_tag": "ABX9TyOc8/HejZ9jyYiNq9Q7Thmj",
      "include_colab_link": true
    },
    "kernelspec": {
      "name": "python3",
      "display_name": "Python 3"
    },
    "language_info": {
      "name": "python"
    }
  },
  "cells": [
    {
      "cell_type": "markdown",
      "metadata": {
        "id": "view-in-github",
        "colab_type": "text"
      },
      "source": [
        "<a href=\"https://colab.research.google.com/github/OlgaGrischenko80/first_repository/blob/main/Untitled27.ipynb\" target=\"_parent\"><img src=\"https://colab.research.google.com/assets/colab-badge.svg\" alt=\"Open In Colab\"/></a>"
      ]
    },
    {
      "cell_type": "code",
      "execution_count": null,
      "metadata": {
        "id": "kXqNia8Rp9bO"
      },
      "outputs": [],
      "source": [
        "def read_file(file_name):\n",
        "    # ваш код\n",
        "    with open(file_name, 'r') as file:\n",
        "        lines = file.readlines()\n",
        "    lines = [line.strip() for line in lines]\n",
        "    return lines"
      ]
    }
  ]
}